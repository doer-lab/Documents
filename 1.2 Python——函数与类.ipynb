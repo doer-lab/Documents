{
 "cells": [
  {
   "cell_type": "markdown",
   "metadata": {},
   "source": [
    "# 一、函数"
   ]
  },
  {
   "cell_type": "markdown",
   "metadata": {},
   "source": [
    "## 1、调用函数"
   ]
  },
  {
   "cell_type": "markdown",
   "metadata": {},
   "source": [
    "### 特点：要调用一个函数，需要准确知道函数的名称及其参数，否则会报错。在知道函数名的情况下，可通过help(函数名)查看函数的参数信息及一些其他的信息。ex: help(max)"
   ]
  },
  {
   "cell_type": "code",
   "execution_count": 1,
   "metadata": {},
   "outputs": [
    {
     "name": "stdout",
     "output_type": "stream",
     "text": [
      "Help on built-in function max in module builtins:\n",
      "\n",
      "max(...)\n",
      "    max(iterable, *[, default=obj, key=func]) -> value\n",
      "    max(arg1, arg2, *args, *[, key=func]) -> value\n",
      "    \n",
      "    With a single iterable argument, return its biggest item. The\n",
      "    default keyword-only argument specifies an object to return if\n",
      "    the provided iterable is empty.\n",
      "    With two or more arguments, return the largest argument.\n",
      "\n"
     ]
    }
   ],
   "source": [
    "help(max)"
   ]
  },
  {
   "cell_type": "markdown",
   "metadata": {},
   "source": [
    "### 1.1 常用于数据类型转换的函数——int(), float(), str(), bool()"
   ]
  },
  {
   "cell_type": "markdown",
   "metadata": {},
   "source": [
    "#### 1）、 int()函数"
   ]
  },
  {
   "cell_type": "code",
   "execution_count": 4,
   "metadata": {
    "scrolled": true
   },
   "outputs": [
    {
     "data": {
      "text/plain": [
       "124"
      ]
     },
     "execution_count": 4,
     "metadata": {},
     "output_type": "execute_result"
    }
   ],
   "source": [
    "int(124.234)    # 将一个浮点数转换为整数"
   ]
  },
  {
   "cell_type": "code",
   "execution_count": 28,
   "metadata": {},
   "outputs": [
    {
     "data": {
      "text/plain": [
       "124"
      ]
     },
     "execution_count": 28,
     "metadata": {},
     "output_type": "execute_result"
    }
   ],
   "source": [
    "int('124')      # 还可将 由表示整数的字符串转换为整数"
   ]
  },
  {
   "cell_type": "markdown",
   "metadata": {},
   "source": [
    "#### 2）、 float()函数"
   ]
  },
  {
   "cell_type": "code",
   "execution_count": 5,
   "metadata": {
    "scrolled": true
   },
   "outputs": [
    {
     "data": {
      "text/plain": [
       "13234.0"
      ]
     },
     "execution_count": 5,
     "metadata": {},
     "output_type": "execute_result"
    }
   ],
   "source": [
    "float(13234)    # 将一个整数转换成浮点数"
   ]
  },
  {
   "cell_type": "code",
   "execution_count": 29,
   "metadata": {},
   "outputs": [
    {
     "data": {
      "text/plain": [
       "1332.3345"
      ]
     },
     "execution_count": 29,
     "metadata": {},
     "output_type": "execute_result"
    }
   ],
   "source": [
    "float('1332.3345')  # 还可将 由表示浮点数的字符串转换为浮点数"
   ]
  },
  {
   "cell_type": "markdown",
   "metadata": {},
   "source": [
    "#### 3）、 str()函数"
   ]
  },
  {
   "cell_type": "code",
   "execution_count": 6,
   "metadata": {},
   "outputs": [
    {
     "data": {
      "text/plain": [
       "'13432'"
      ]
     },
     "execution_count": 6,
     "metadata": {},
     "output_type": "execute_result"
    }
   ],
   "source": [
    "str(13432)      # 将一个整数转换成一个字符串"
   ]
  },
  {
   "cell_type": "code",
   "execution_count": 7,
   "metadata": {},
   "outputs": [
    {
     "data": {
      "text/plain": [
       "'2342234.2341'"
      ]
     },
     "execution_count": 7,
     "metadata": {},
     "output_type": "execute_result"
    }
   ],
   "source": [
    "str(2342234.2341)  # 将一个浮点数转换成一个字符串"
   ]
  },
  {
   "cell_type": "code",
   "execution_count": 25,
   "metadata": {},
   "outputs": [
    {
     "name": "stdout",
     "output_type": "stream",
     "text": [
      "bool(1) = True\n",
      "bool(1.1) = True\n",
      "bool(-1.1) = True\n",
      "bool(-1) = True\n",
      "bool(0) = False\n",
      "bool('asd') = True\n",
      "bool() = False\n",
      "bool() = True\n"
     ]
    }
   ],
   "source": [
    "# 可将实数、字符串转换为对应的布尔值\n",
    "# 非0实数被转换为 True，只有0被转换成 False\n",
    "print('bool(1) =',bool(1))\n",
    "print('bool(1.1) =',bool(1.1))\n",
    "print('bool(-1.1) =',bool(-1.1))\n",
    "print('bool(-1) =',bool(-1))\n",
    "print('bool(0) =',bool(0))\n",
    "\n",
    "# 非空字符串被转换为 True，只有空字符串被转换为 False\n",
    "print(\"bool('asd') =\",bool('asd'))\n",
    "print('bool('') =',bool(''))\n",
    "print('bool('  ') =',bool('  '))       # 计算机不会对空字符串进行编码，若单引号之间存在多个空格，此时并不是空字符串，计算机会对空格进行编码"
   ]
  },
  {
   "cell_type": "markdown",
   "metadata": {},
   "source": [
    "### 1.2 函数别名"
   ]
  },
  {
   "cell_type": "markdown",
   "metadata": {},
   "source": [
    "#### 函数名其实就是指 对一个函数对象的引用，完全可以把函数名赋给一个变量，相当于给这个函数起了一个“别名”。"
   ]
  },
  {
   "cell_type": "code",
   "execution_count": 34,
   "metadata": {},
   "outputs": [
    {
     "name": "stdout",
     "output_type": "stream",
     "text": [
      "[0.79756804 0.32249016 0.4883025  0.01256586 0.88527151 0.65277903\n",
      " 0.36886565 0.55009888 0.35646193 0.47916558]\n"
     ]
    },
    {
     "data": {
      "text/plain": [
       "0.8852715113854936"
      ]
     },
     "execution_count": 34,
     "metadata": {},
     "output_type": "execute_result"
    }
   ],
   "source": [
    "import numpy as np\n",
    "\n",
    "a = max\n",
    "b = np.random.random(10)\n",
    "print(b)\n",
    "a(b)"
   ]
  },
  {
   "cell_type": "markdown",
   "metadata": {},
   "source": [
    "## 2、定义函数"
   ]
  },
  {
   "cell_type": "markdown",
   "metadata": {},
   "source": [
    "### 特点：Python中定义一个函数要使用def语句，依次写出函数名、括号、函数的参数和冒号:，然后，在换行缩进块中编写函数体，函数的返回值用return语句返回。"
   ]
  },
  {
   "cell_type": "markdown",
   "metadata": {},
   "source": [
    "### 2.1 example:自定义一个求绝对值的函数my_abs。绝对值函数：$$f(x) = \\{{x(x>=0)},{-x(otherwise)}$$"
   ]
  },
  {
   "cell_type": "code",
   "execution_count": 36,
   "metadata": {},
   "outputs": [],
   "source": [
    "def my_abs(x):\n",
    "    if x < 0:\n",
    "        return -x\n",
    "    else:\n",
    "        return x"
   ]
  },
  {
   "cell_type": "code",
   "execution_count": 40,
   "metadata": {},
   "outputs": [
    {
     "name": "stdout",
     "output_type": "stream",
     "text": [
      "my_abs(-1) = 1\n",
      "my_abs(12.23) = 12.23\n"
     ]
    }
   ],
   "source": [
    "print('my_abs(-1) =',my_abs(-1))\n",
    "print('my_abs(12.23) =',my_abs(12.23))"
   ]
  },
  {
   "cell_type": "markdown",
   "metadata": {},
   "source": [
    "#### 函数体内部的语句在执行时，一旦遇到return时，函数就执行完毕，并将结果返回；如果没有return语句，函数执行完毕后也会返回结果，只是返回的结果为None，return None可以简写为return"
   ]
  },
  {
   "cell_type": "markdown",
   "metadata": {},
   "source": [
    "### 2.2 空函数"
   ]
  },
  {
   "cell_type": "markdown",
   "metadata": {},
   "source": [
    "#### 如果想定义一个什么事也不做的空函数，可以用pass语句。有何作用呢？pass可用来作为占位符，比如现在还没想好怎么写函数，就可以先放一个pass，让代码能运行起来，等后面需要使用或者知道如何写的时候再回来编写函数体"
   ]
  },
  {
   "cell_type": "code",
   "execution_count": 41,
   "metadata": {},
   "outputs": [],
   "source": [
    "def next_batch(batch_size):                 # 编写一个函数实现一次从输入数据中读取 batch_size 个数据，暂时还不清楚如何编写\n",
    "    pass"
   ]
  },
  {
   "cell_type": "markdown",
   "metadata": {},
   "source": [
    "### 2.3 返回多个值"
   ]
  },
  {
   "cell_type": "markdown",
   "metadata": {},
   "source": [
    "#### 函数可以返回多个值，默认返回多个值组成的元组，可修改为列表。ex: 在my_abs中返回原始输入数据和求绝对值之后的数据"
   ]
  },
  {
   "cell_type": "code",
   "execution_count": 46,
   "metadata": {},
   "outputs": [],
   "source": [
    "def my_abs1(x):\n",
    "    if x < 0:\n",
    "        return x,-x\n",
    "    else:\n",
    "        return x,x"
   ]
  },
  {
   "cell_type": "code",
   "execution_count": 47,
   "metadata": {},
   "outputs": [
    {
     "data": {
      "text/plain": [
       "(10, 10)"
      ]
     },
     "execution_count": 47,
     "metadata": {},
     "output_type": "execute_result"
    }
   ],
   "source": [
    "my_abs1(10)"
   ]
  },
  {
   "cell_type": "markdown",
   "metadata": {},
   "source": [
    "### 2.4 小结"
   ]
  },
  {
   "cell_type": "markdown",
   "metadata": {},
   "source": [
    "#### 定义函数时，需要确定函数名和参数个数；\n",
    "#### 如果有必要，可以先对参数的数据类型做检查；\n",
    "#### 函数体内部可以用return随时返回函数结果；\n",
    "#### 函数执行完毕也没有return语句时，自动return None。\n",
    "#### 函数可以同时返回多个值，但其实就是一个tuple。"
   ]
  },
  {
   "cell_type": "markdown",
   "metadata": {},
   "source": [
    "## 3、函数的参数"
   ]
  },
  {
   "cell_type": "markdown",
   "metadata": {},
   "source": [
    "### 3.1 位置参数"
   ]
  },
  {
   "cell_type": "markdown",
   "metadata": {},
   "source": [
    "#### 调用函数时，传入函数的参数 必须按照函数里面参数定义的顺序进行 传入，通过定义一个冥函数来理解什么叫做位置参数："
   ]
  },
  {
   "cell_type": "code",
   "execution_count": 52,
   "metadata": {},
   "outputs": [],
   "source": [
    "def power(x,n):\n",
    "    ''' f(x)=x^n '''\n",
    "    prod = 1\n",
    "    i = 1    # 计数\n",
    "    while i <=n:\n",
    "        prod *=x\n",
    "        i += 1\n",
    "    return prod"
   ]
  },
  {
   "cell_type": "code",
   "execution_count": 56,
   "metadata": {},
   "outputs": [
    {
     "data": {
      "text/plain": [
       "64"
      ]
     },
     "execution_count": 56,
     "metadata": {},
     "output_type": "execute_result"
    }
   ],
   "source": [
    "power(4,3)"
   ]
  },
  {
   "cell_type": "markdown",
   "metadata": {},
   "source": [
    "#### 向power()函数传入参数时，顺序不能填错了。ex: 计算$2^2$、$3^2$、$4^3$"
   ]
  },
  {
   "cell_type": "code",
   "execution_count": 57,
   "metadata": {},
   "outputs": [
    {
     "name": "stdout",
     "output_type": "stream",
     "text": [
      "2的2次方： 4\n",
      "3的2次方： 9\n",
      "4的3次方： 64\n"
     ]
    }
   ],
   "source": [
    "print('2的2次方：',power(2,2))\n",
    "print('3的2次方：',power(3,2))\n",
    "print('4的3次方：',power(4,3))"
   ]
  },
  {
   "cell_type": "code",
   "execution_count": 58,
   "metadata": {},
   "outputs": [
    {
     "name": "stdout",
     "output_type": "stream",
     "text": [
      "4的3次方： 64\n",
      "4的3次方： 81\n"
     ]
    }
   ],
   "source": [
    "print('4的3次方：',power(4,3))\n",
    "print('4的3次方：',power(3,4))             # 顺序填反时，程序要不报错，要不就是得不到我们想要的结果"
   ]
  },
  {
   "cell_type": "markdown",
   "metadata": {},
   "source": [
    "### 3.2 默认参数"
   ]
  },
  {
   "cell_type": "markdown",
   "metadata": {},
   "source": [
    "#### 由于日常中使用$x^2$的情况比较多，如果每次都要向power()函数中传入两个参数，会稍微有点繁琐，我们可在power()函数定义时就给它一个默认值n=2，以后每次计算$x^2$时就可以只输入x，当然，当需要计算$x^3$时，我们依旧可以输入新的值使n=3，同理，我们可以计算一个数的任意次方。ex: 修改上述定义的power()函数，分别计算$2^2$、$3^2$、$3^3$的值【默认参数是可以修改的】"
   ]
  },
  {
   "cell_type": "code",
   "execution_count": 59,
   "metadata": {},
   "outputs": [],
   "source": [
    "def power_v2(x,n=2):\n",
    "    ''' f(x)=x^n '''\n",
    "    prod = 1\n",
    "    i = 1    # 计数\n",
    "    while i <=n:\n",
    "        prod *=x\n",
    "        i += 1\n",
    "    return prod"
   ]
  },
  {
   "cell_type": "code",
   "execution_count": 60,
   "metadata": {
    "scrolled": true
   },
   "outputs": [
    {
     "name": "stdout",
     "output_type": "stream",
     "text": [
      "2的2次方为： 4\n",
      "3的2次方为： 9\n",
      "3的3次方为： 27\n"
     ]
    }
   ],
   "source": [
    "print('2的2次方为：',power_v2(2))         # 只向power_v2()函数输入一个参数\n",
    "print('3的2次方为：',power_v2(3))\n",
    "print('3的3次方为：',power_v2(3,3))         # power_v2()函数输入两个参数来计算 3的3次方的值"
   ]
  },
  {
   "cell_type": "markdown",
   "metadata": {},
   "source": [
    "##### 默认参数可以简化函数的调用。设置默认参数时，有几点要注意：\n",
    "##### 一是必选参数在前，默认参数在后，否则Python的解释器会报错；\n",
    "##### 二是如何设置默认参数。\n",
    "##### 当函数有多个参数时，把变化大的参数放前面，变化小的参数放后面。变化小的参数就可以作为默认参数。\n",
    "##### 使用默认参数最大的好处是能降低调用函数的难度（需要输入的参数变少了）"
   ]
  },
  {
   "cell_type": "markdown",
   "metadata": {},
   "source": [
    "### 3.3 可变参数——在普通参数前加上一个‘*’"
   ]
  },
  {
   "cell_type": "markdown",
   "metadata": {},
   "source": [
    "#### 特点：可变参数就是 传入的参数个数是可变的，可以是0个、1个、2个到任意个"
   ]
  },
  {
   "cell_type": "markdown",
   "metadata": {},
   "source": [
    "#### 以实际例子讲解可变参数的使用。给定一组数字a, b, c, d...计算 $a^2+b^2+c^2+d^2+...$"
   ]
  },
  {
   "cell_type": "markdown",
   "metadata": {},
   "source": [
    "#### 1）、要定义出这个函数，我们必须确定输入的参数，由于参数个数不确定，我们首先想到可以把a，b，c……作为一个list或tuple传进来，这样，函数可以定义如下："
   ]
  },
  {
   "cell_type": "code",
   "execution_count": 66,
   "metadata": {},
   "outputs": [],
   "source": [
    "def calculate(numbers):\n",
    "    sums = 0\n",
    "    for number in numbers:\n",
    "        sums += number**2\n",
    "    return sums"
   ]
  },
  {
   "cell_type": "code",
   "execution_count": 68,
   "metadata": {},
   "outputs": [
    {
     "data": {
      "text/plain": [
       "30"
      ]
     },
     "execution_count": 68,
     "metadata": {},
     "output_type": "execute_result"
    }
   ],
   "source": [
    "calculate([1,2,3,4])"
   ]
  },
  {
   "cell_type": "markdown",
   "metadata": {},
   "source": [
    "#### 2）、在上述定义的函数中，每次计算时，需要将多个数组合成一个list或tuple。是否可直接传入需要计算的数字，而不需要组成list或tuple呢？此时，我们可在定义函数时使用可变参数。修改calculate()函数来实现这样的功能："
   ]
  },
  {
   "cell_type": "code",
   "execution_count": 74,
   "metadata": {},
   "outputs": [],
   "source": [
    "def calculate_v2(*numbers):\n",
    "#     print(numbers)             # 查看此时的 numbers ，可发现此时的 numbers 是由输入的数组成的 tuple\n",
    "    sums = 0\n",
    "    for number in numbers:\n",
    "        sums += number**2\n",
    "    return sums"
   ]
  },
  {
   "cell_type": "code",
   "execution_count": 75,
   "metadata": {},
   "outputs": [
    {
     "data": {
      "text/plain": [
       "30"
      ]
     },
     "execution_count": 75,
     "metadata": {},
     "output_type": "execute_result"
    }
   ],
   "source": [
    "calculate_v2(1,2,3,4)"
   ]
  },
  {
   "cell_type": "code",
   "execution_count": 83,
   "metadata": {},
   "outputs": [],
   "source": [
    "# 一个更加健壮的函数：当没有输入时，输出为0；当至少有一个数输入时，自动进行所定义的计算\n",
    "def calculate_v3(*numbers):\n",
    "#     print(numbers)             # 查看此时的 numbers ，可发现此时的 numbers 是由输入的数组成的 tuple\n",
    "    if len(numbers) > 0:\n",
    "        sums = 0\n",
    "        for number in numbers:\n",
    "            sums += number**2\n",
    "        return sums\n",
    "    else :\n",
    "        return None"
   ]
  },
  {
   "cell_type": "markdown",
   "metadata": {},
   "source": [
    "#### 对比 calculate() 函数可以发现，只需在参数numbers前加一个 * 就可以实现该功能，如定义的calculate_v2()函数所示\n",
    "#### 当我们手里的数据是list或tuple时，我们也可采用calculate_v2() 进行计算，只需在调用函数时，在参数前加一个 * ，*numbers表示把numbers这个list（或tuple）的所有元素作为可变参数传进去。 ex:"
   ]
  },
  {
   "cell_type": "code",
   "execution_count": 80,
   "metadata": {},
   "outputs": [
    {
     "name": "stdout",
     "output_type": "stream",
     "text": [
      "30\n",
      "30\n"
     ]
    }
   ],
   "source": [
    "test_list = [1,2,3,4]\n",
    "test_tuple = (1,2,3,4)\n",
    "\n",
    "print(calculate_v2(*test_list))\n",
    "print(calculate_v2(*test_tuple))"
   ]
  },
  {
   "cell_type": "markdown",
   "metadata": {},
   "source": [
    "### 3.4 关键字参数——在普通参数前加上两个‘*’"
   ]
  },
  {
   "cell_type": "markdown",
   "metadata": {},
   "source": [
    "#### 特点：可变参数允许你传入0个或任意个参数，这些可变参数在函数调用时自动组装为一个tuple；而关键字参数也允许你传入0个或任意个含参数名的参数，只不过这些关键字参数在函数内部自动组装为一个dict，它可以扩展函数的功能。请看示例："
   ]
  },
  {
   "cell_type": "code",
   "execution_count": 84,
   "metadata": {},
   "outputs": [],
   "source": [
    "def person(name, age, **kw):\n",
    "    print('name:', name, 'age:', age, 'other:', kw)"
   ]
  },
  {
   "cell_type": "code",
   "execution_count": 87,
   "metadata": {},
   "outputs": [
    {
     "name": "stdout",
     "output_type": "stream",
     "text": [
      "name: QingCai age: 3 other: {'province': '云南省', 'city': '昆明市'}\n"
     ]
    }
   ],
   "source": [
    "person('QingCai',3,province='云南省',city='昆明市')"
   ]
  },
  {
   "cell_type": "markdown",
   "metadata": {},
   "source": [
    "#### 在调用含有关键自参数的函数时，可以只输入必选参数，也可在输入必选参数的基础上输入多个关键字参数；当手里现成的数据时字典类型时，输入到函数时，在其前面加上 ** ，同可变参数一样"
   ]
  },
  {
   "cell_type": "code",
   "execution_count": 88,
   "metadata": {
    "scrolled": true
   },
   "outputs": [
    {
     "name": "stdout",
     "output_type": "stream",
     "text": [
      "name: QingCai age: 3 other: {}\n"
     ]
    }
   ],
   "source": [
    "person('QingCai',3)"
   ]
  },
  {
   "cell_type": "code",
   "execution_count": 89,
   "metadata": {},
   "outputs": [
    {
     "name": "stdout",
     "output_type": "stream",
     "text": [
      "name: QingCai age: 3 other: {'Province': 'Yunnan', 'city': 'KunMing'}\n"
     ]
    }
   ],
   "source": [
    "extra = {'Province':'Yunnan','city':'KunMing'}\n",
    "person('QingCai',3,**extra)"
   ]
  },
  {
   "cell_type": "markdown",
   "metadata": {},
   "source": [
    "### 3.5 命名关键字参数"
   ]
  },
  {
   "cell_type": "markdown",
   "metadata": {},
   "source": [
    "#### 特点：对于关键字参数，函数的调用者可以传入任意不受限制的关键字参数，至于到底传入了哪些，就需要在函数内部通过kw检查；如果要限制传入的关键字参数，就可以用命名关键字参数。以实际例子进行展示：对于上述定义的函数person()，我们限制它要么不传入关键字参数，要么只传入指定的关键字参数。"
   ]
  },
  {
   "cell_type": "code",
   "execution_count": 95,
   "metadata": {},
   "outputs": [],
   "source": [
    "def person_v2(name,age,*,province,city,school):\n",
    "    print('name',name,'age',age,'province',province,'city',city,'school',school)"
   ]
  },
  {
   "cell_type": "code",
   "execution_count": 97,
   "metadata": {},
   "outputs": [
    {
     "name": "stdout",
     "output_type": "stream",
     "text": [
      "name ZhuFei age 23 province 云南 city 昆明 school Yunnan Normal University\n"
     ]
    }
   ],
   "source": [
    "person_v2('ZhuFei',23,province='云南',city='昆明',school='Yunnan Normal University')"
   ]
  },
  {
   "cell_type": "markdown",
   "metadata": {},
   "source": [
    "#### 【注】：\n",
    "#### 1）、和关键字参数**kw不同，命名关键字参数需要一个特殊分隔符*，*后面的参数被视为命名关键字参数\n",
    "#### 2）、如果函数定义中已经有了一个可变参数，后面跟着的命名关键字参数就不再需要一个特殊分隔符 *\n",
    "#### 3）、命名关键字参数必须传入参数名，这和位置参数、可选参变不同，如果没有传入参数名，调用将报错\n",
    "#### 4）、传入的命名关键字参数的参数名和参数个数必须和定义的命名关键字参数的参数名和参数个数一致"
   ]
  },
  {
   "cell_type": "markdown",
   "metadata": {},
   "source": [
    "### 3.6 参数组合"
   ]
  },
  {
   "cell_type": "markdown",
   "metadata": {},
   "source": [
    "#### 在Python中定义函数，可以用必选参数、默认参数、可变参数、关键字参数和命名关键字参数，这5种参数都可以组合使用，但是要注意，参数定义的顺序必须是：必选参数、默认参数、可变参数、命名关键字参数和关键字参数"
   ]
  },
  {
   "cell_type": "markdown",
   "metadata": {},
   "source": [
    "### 小结：\n",
    "## Python的函数具有非常灵活的参数形态，既可以实现简单的调用，又可以传入非常复杂的参数：\n",
    "### 1、默认参数一定要用不可变对象，如果是可变对象，程序运行时会有逻辑错误\n",
    "### 2、要注意定义可变参数和关键字参数的语法：\n",
    "#### （1）*args是可变参数，args接收的是一个tuple\n",
    "#### （2）**kw是关键字参数，kw接收的是一个dict\n",
    "### 3、以及调用函数时如何传入可变参数和关键字参数的语法：\n",
    "### （1）可变参数既可以直接传入：calculate(1, 2, 3)，又可以先组装list或tuple，再通过*args传入：calculate(*(1, 2, 3))；\n",
    "### （2）关键字参数既可以直接传入：person('ZhuFei',23,province='云南',city='昆明')，又可以先组装dict，再通过**kw传入：person('QingCai',3,**{'province':'云南','city':'昆明‘’})。\n",
    "### 4、使用*args和**kw是Python的习惯写法，当然也可以用其他参数名，但最好使用习惯用法。\n",
    "### 5、命名的关键字参数是为了限制调用者可以传入的参数名，同时可以提供默认值。\n",
    "### 6、定义命名的关键字参数在没有可变参数的情况下不要忘了写分隔符*，否则定义的将是位置参数"
   ]
  },
  {
   "cell_type": "markdown",
   "metadata": {},
   "source": [
    "# 二、类"
   ]
  },
  {
   "cell_type": "markdown",
   "metadata": {},
   "source": [
    "## 对象是对客观事物的抽象，类是对对象的抽象，对象又可看做是类的具体实例"
   ]
  },
  {
   "cell_type": "markdown",
   "metadata": {},
   "source": [
    "## 类是对现实生活中一类具有共同特征的事物的抽象；是现实世界或思维世界中的实体在计算机中的反映，它将数据以及在数据上的操作封装在一起"
   ]
  },
  {
   "cell_type": "markdown",
   "metadata": {},
   "source": [
    "## 类的实质是一种数据类型，类似于int、char等基本类型，不同的是，它是一种复杂的数据类型；\n",
    "## 类的本质是类型，而不是数据，所以不存在于内存中，不能被直接操作，只有被实例化为对象时，才会变得可操作。类的内部封装了方法，用于操作自身的成员"
   ]
  },
  {
   "cell_type": "markdown",
   "metadata": {},
   "source": [
    "## 类是面向对象程序设计中的概念，是面向对象编程的基础；面向对象是一种对现实世界理解和抽象的方法，是计算机编程技术发展到一定阶段后的产物"
   ]
  },
  {
   "cell_type": "markdown",
   "metadata": {},
   "source": [
    "## 通过一个具体的例子来讲解关于类的内容"
   ]
  },
  {
   "cell_type": "markdown",
   "metadata": {},
   "source": [
    "## 1、创建和使用类"
   ]
  },
  {
   "cell_type": "markdown",
   "metadata": {},
   "source": [
    "### 1.1 创建一个表示汽车的类"
   ]
  },
  {
   "cell_type": "markdown",
   "metadata": {},
   "source": [
    "#### 对于每一辆汽车，它们都有公共的特性：①品牌——model；②制造商——make；③生产时间——year"
   ]
  },
  {
   "cell_type": "code",
   "execution_count": 102,
   "metadata": {},
   "outputs": [],
   "source": [
    "class Car():\n",
    "    def __init__(self,make,model,year):\n",
    "        self.make = make\n",
    "        self.model = model\n",
    "        self.year = year"
   ]
  },
  {
   "cell_type": "markdown",
   "metadata": {},
   "source": [
    "#### 【说明】：\n",
    "#### ①定义类的时候，不再采用def，而是使用calss，其后接类的名称和一对小括号，再接一个冒号，然后在换行缩进后编写类的内容。在python中，首字母大写的名称是类。\n",
    "#### ②类中的函数称为方法，之前学过的关于函数的一切均适用于方法。在类中创建的第一个方法必须是$__init__(self [,parameters_one [,parameters_two[,...]]])$，该方法的第一个参数也必须是self。每当根据定义的类创建一个实例时，python都会自动运行它\n",
    "#### ③ $__init__()$ 方法中定义的两个变量都有前缀self，以self为前缀的变量都可提供类中的所有方法使用，我们还可以通过类的任何实例来访问这些变量。self.make = make 或许存储在形参make中的值，并将其保存到变量make中，然后改变量被关联到当前创建的实例。像这样通过实例可访问的变量称为属性"
   ]
  },
  {
   "cell_type": "markdown",
   "metadata": {},
   "source": [
    "### 1.2 使用类创建一个名为my_new_car的实例"
   ]
  },
  {
   "cell_type": "code",
   "execution_count": 104,
   "metadata": {},
   "outputs": [
    {
     "name": "stdout",
     "output_type": "stream",
     "text": [
      "audi\n",
      "a4\n",
      "2016\n"
     ]
    }
   ],
   "source": [
    "# 创建一个实例\n",
    "my_new_car = Car('audi','a4',2016)\n",
    "\n",
    "print(my_new_car.make)            # 访问生产商\n",
    "print(my_new_car.model)           # 访问型号\n",
    "print(my_new_car.year)            # 访问生产年份"
   ]
  },
  {
   "cell_type": "markdown",
   "metadata": {},
   "source": [
    "### 1.3 在Car类中增加一个名为get_descriptive_name()方法，它使用make，model，year创建一个对汽车进行描述的字符串"
   ]
  },
  {
   "cell_type": "code",
   "execution_count": 110,
   "metadata": {},
   "outputs": [],
   "source": [
    "class Car_v1():\n",
    "    \"\"\"一次模拟汽车的简单尝试\"\"\"\n",
    "    def __init__(self,make,model,year):\n",
    "        \"\"\"初始化描述汽车的属性\"\"\"\n",
    "        self.make = make\n",
    "        self.model = model\n",
    "        self.year = year\n",
    "    \n",
    "    def get_descriptive_name(self):\n",
    "        \"\"\"返回整洁的描述信息\"\"\"\n",
    "        long_name = str(self.year)+' '+self.make+' '+self.model\n",
    "        return long_name.title()"
   ]
  },
  {
   "cell_type": "code",
   "execution_count": 111,
   "metadata": {},
   "outputs": [
    {
     "name": "stdout",
     "output_type": "stream",
     "text": [
      "2016 Audi A4\n"
     ]
    }
   ],
   "source": [
    "my_new_car_v1 = Car_v1('audi','a4',2016)\n",
    "print(my_new_car_v1.get_descriptive_name())"
   ]
  },
  {
   "cell_type": "markdown",
   "metadata": {},
   "source": [
    "### 1.4 给属性指定默认值"
   ]
  },
  {
   "cell_type": "markdown",
   "metadata": {},
   "source": [
    "#### 特点：类中的每个属性都必须有初始值，哪怕这值是0或空字符串，如果需要设置默认值，在方法$__init__()$内指定这种初始值是可行的，如果在方法$__init__()$中指定了默认值，就无需包含为它提供初试值得形参"
   ]
  },
  {
   "cell_type": "markdown",
   "metadata": {},
   "source": [
    "##### 下面来添加一个名为odometer_reading的属性，其初始值总是0；再添加一个名为 read_odometer() 的方法 ，由于读取汽车的里程数"
   ]
  },
  {
   "cell_type": "code",
   "execution_count": 112,
   "metadata": {},
   "outputs": [],
   "source": [
    "class Car_v2():\n",
    "    \"\"\"一次模拟汽车的简单尝试\"\"\"\n",
    "    def __init__(self,make,model,year):\n",
    "        \"\"\"初始化描述汽车的属性\"\"\"\n",
    "        self.make = make\n",
    "        self.model = model\n",
    "        self.year = year\n",
    "        self.odometer_reading = 0\n",
    "    \n",
    "    def get_descriptive_name(self):\n",
    "        \"\"\"返回整洁的描述信息\"\"\"\n",
    "        long_name = str(self.year)+' '+self.make+' '+self.model\n",
    "        return long_name.title()\n",
    "    \n",
    "    def read_odometer(self):\n",
    "        \"\"\"打印一条信息用以说明汽车的里程数\"\"\"\n",
    "        print(\"This car has {} miles on it\".format(self.odometer_reading))"
   ]
  },
  {
   "cell_type": "code",
   "execution_count": 113,
   "metadata": {},
   "outputs": [
    {
     "name": "stdout",
     "output_type": "stream",
     "text": [
      "2016 Audi A4\n",
      "This car has 0 miles on it\n"
     ]
    }
   ],
   "source": [
    "my_new_car_v2 = Car_v2('audi','a4',2016)\n",
    "print(my_new_car_v2.get_descriptive_name())\n",
    "my_new_car_v2.read_odometer()"
   ]
  },
  {
   "cell_type": "markdown",
   "metadata": {},
   "source": [
    "### 1.5 修改属性的值——将里程表的值修改为23"
   ]
  },
  {
   "cell_type": "markdown",
   "metadata": {},
   "source": [
    "#### 以新车为例，出售时里程表读数为0的可真不多，因此我们需要一个修改该属性的途径"
   ]
  },
  {
   "cell_type": "markdown",
   "metadata": {},
   "source": [
    "\n",
    "#### ①直接修改属性的值"
   ]
  },
  {
   "cell_type": "code",
   "execution_count": 115,
   "metadata": {},
   "outputs": [
    {
     "name": "stdout",
     "output_type": "stream",
     "text": [
      "This car has 23 miles on it\n"
     ]
    }
   ],
   "source": [
    "my_new_car_v2.odometer_reading = 23\n",
    "my_new_car_v2.read_odometer()"
   ]
  },
  {
   "cell_type": "markdown",
   "metadata": {},
   "source": [
    "#### ②通过方法修改属性的值"
   ]
  },
  {
   "cell_type": "code",
   "execution_count": 117,
   "metadata": {},
   "outputs": [],
   "source": [
    "class Car_v3():\n",
    "    \"\"\"一次模拟汽车的简单尝试\"\"\"\n",
    "    def __init__(self,make,model,year):\n",
    "        \"\"\"初始化描述汽车的属性\"\"\"\n",
    "        self.make = make\n",
    "        self.model = model\n",
    "        self.year = year\n",
    "        self.odometer_reading = 0\n",
    "    \n",
    "    def get_descriptive_name(self):\n",
    "        \"\"\"返回整洁的描述信息\"\"\"\n",
    "        long_name = str(self.year)+' '+self.make+' '+self.model\n",
    "        return long_name.title()\n",
    "    \n",
    "    def read_odometer(self):\n",
    "        \"\"\"打印一条信息用以说明汽车的里程数\"\"\"\n",
    "        print(\"This car has {} miles on it\".format(self.odometer_reading))\n",
    "        \n",
    "    def update_odometer(self,mileage):\n",
    "        \"\"\"将里程表读数设置为定的值——23\"\"\"\n",
    "        self.odometer_reading = mileage"
   ]
  },
  {
   "cell_type": "code",
   "execution_count": 119,
   "metadata": {},
   "outputs": [
    {
     "name": "stdout",
     "output_type": "stream",
     "text": [
      "2016 Audi A4\n",
      "This car has 0 miles on it\n",
      "This car has 23 miles on it\n"
     ]
    }
   ],
   "source": [
    "my_new_car_v3 = Car_v3('audi','a4',2016)\n",
    "print(my_new_car_v3.get_descriptive_name())\n",
    "my_new_car_v3.read_odometer()\n",
    "\n",
    "my_new_car_v3.update_odometer(23)\n",
    "my_new_car_v3.read_odometer()"
   ]
  },
  {
   "cell_type": "markdown",
   "metadata": {},
   "source": [
    "#### 还可对 update_odometer() 方法进行扩展，使其在修改里程表读数时做一些额外的工作：禁止任何人将读数往回调，否则报错"
   ]
  },
  {
   "cell_type": "code",
   "execution_count": 120,
   "metadata": {},
   "outputs": [],
   "source": [
    "class Car_v4():\n",
    "    \"\"\"一次模拟汽车的简单尝试\"\"\"\n",
    "    def __init__(self,make,model,year):\n",
    "        \"\"\"初始化描述汽车的属性\"\"\"\n",
    "        self.make = make\n",
    "        self.model = model\n",
    "        self.year = year\n",
    "        self.odometer_reading = 50\n",
    "    \n",
    "    def get_descriptive_name(self):\n",
    "        \"\"\"返回整洁的描述信息\"\"\"\n",
    "        long_name = str(self.year)+' '+self.make+' '+self.model\n",
    "        return long_name.title()\n",
    "    \n",
    "    def read_odometer(self):\n",
    "        \"\"\"打印一条信息用以说明汽车的里程数\"\"\"\n",
    "        print(\"This car has {} miles on it\".format(self.odometer_reading))\n",
    "        \n",
    "    def update_odometer(self,mileage):\n",
    "        \"\"\"将里程表读数设置为定的值——23\"\"\"\n",
    "        if mileage > self.odometer_reading:\n",
    "            self.odometer_reading = mileage\n",
    "        else:\n",
    "             print(\"You can't roll back an odometer!\")   "
   ]
  },
  {
   "cell_type": "code",
   "execution_count": 122,
   "metadata": {},
   "outputs": [
    {
     "name": "stdout",
     "output_type": "stream",
     "text": [
      "This car has 50 miles on it\n",
      "You can't roll back an odometer!\n",
      "This car has 50 miles on it\n"
     ]
    }
   ],
   "source": [
    "my_new_car_v4 = Car_v4('audi','a4',2016)\n",
    "my_new_car_v4.read_odometer()\n",
    "\n",
    "my_new_car_v4.update_odometer(23)\n",
    "my_new_car_v4.read_odometer()"
   ]
  },
  {
   "cell_type": "markdown",
   "metadata": {},
   "source": [
    "#### ③通过方法对属性的值进行递增"
   ]
  },
  {
   "cell_type": "markdown",
   "metadata": {},
   "source": [
    "#### 有时候需要将属性值定增指定的量，而不是全部将其设置为新的值。ex：我们购买一辆二手车，且从购买到登记期间增加了100英里的里程"
   ]
  },
  {
   "cell_type": "code",
   "execution_count": 123,
   "metadata": {},
   "outputs": [],
   "source": [
    "class Car_v5():\n",
    "    \"\"\"一次模拟汽车的简单尝试\"\"\"\n",
    "    def __init__(self,make,model,year):\n",
    "        \"\"\"初始化描述汽车的属性\"\"\"\n",
    "        self.make = make\n",
    "        self.model = model\n",
    "        self.year = year\n",
    "        self.odometer_reading = 50\n",
    "    \n",
    "    def get_descriptive_name(self):\n",
    "        \"\"\"返回整洁的描述信息\"\"\"\n",
    "        long_name = str(self.year)+' '+self.make+' '+self.model\n",
    "        return long_name.title()\n",
    "    \n",
    "    def read_odometer(self):\n",
    "        \"\"\"打印一条信息用以说明汽车的里程数\"\"\"\n",
    "        print(\"This car has {} miles on it\".format(self.odometer_reading))\n",
    "        \n",
    "    def update_odometer(self,mileage):\n",
    "        \"\"\"将里程表读数设置为定的值——23\"\"\"\n",
    "        if mileage > self.odometer_reading:\n",
    "            self.odometer_reading = mileage\n",
    "        else:\n",
    "             print(\"You can't roll back an odometer!\")   \n",
    "    \n",
    "    def increment_odometer(self,miles):\n",
    "        \"\"\"将里程表读数增加指定的量\"\"\"\n",
    "        self.odometer_reading += miles"
   ]
  },
  {
   "cell_type": "code",
   "execution_count": 125,
   "metadata": {},
   "outputs": [
    {
     "name": "stdout",
     "output_type": "stream",
     "text": [
      "2013 Subaru Outback\n",
      "This car has 23500 miles on it\n",
      "This car has 23600 miles on it\n"
     ]
    }
   ],
   "source": [
    "my_used_car = Car_v5('subaru','outback',2013)\n",
    "print(my_used_car.get_descriptive_name())\n",
    "\n",
    "my_used_car.update_odometer(23500)\n",
    "my_used_car.read_odometer()\n",
    "\n",
    "my_used_car.increment_odometer(100)\n",
    "my_used_car.read_odometer()"
   ]
  },
  {
   "cell_type": "markdown",
   "metadata": {},
   "source": [
    "## 2、继承"
   ]
  },
  {
   "cell_type": "markdown",
   "metadata": {},
   "source": [
    "### 编写类时，并不总是需要从空白开始。如果你要编写的类时另一个现有类的特殊版本，可使用继承。一个类继承另一个类时，它将自动获得另一个类的所有属性和方法。原有的类称为父类，而新的类称为子类。子类继承了父类的所有属性和方法，同时还可以定义自己的属性和方法。"
   ]
  },
  {
   "cell_type": "markdown",
   "metadata": {},
   "source": [
    "### 2.1 子类的方法$__init__()$"
   ]
  },
  {
   "cell_type": "markdown",
   "metadata": {},
   "source": [
    "#### 特点：在创建子类的时候，python首先需要完成的任务是给父类的所有属性赋值。为此，子类的方法$__init__()$需要父类施以援手"
   ]
  },
  {
   "cell_type": "markdown",
   "metadata": {},
   "source": [
    "#### ex：下面来模拟电动汽车。电动汽车是一种特殊的汽车，因此我们可以在之前创建 Car_v5 类的基础上创建新类 ElectricCar，这样，我们就只需为电动汽车特有的属性和行为编写代码："
   ]
  },
  {
   "cell_type": "code",
   "execution_count": 126,
   "metadata": {},
   "outputs": [],
   "source": [
    "class ElectricCar(Car_v5):\n",
    "    \"\"\"电动汽车的独特之处\"\"\"\n",
    "    def __init__(self,make,model,year):\n",
    "        \"\"\"初始化父类的属性\"\"\"\n",
    "        super().__init__(make,model,year)"
   ]
  },
  {
   "cell_type": "code",
   "execution_count": 128,
   "metadata": {},
   "outputs": [
    {
     "name": "stdout",
     "output_type": "stream",
     "text": [
      "2016 Tesla Model S\n"
     ]
    }
   ],
   "source": [
    "my_tesla = ElectricCar('tesla','model s',2016)\n",
    "print(my_tesla.get_descriptive_name())"
   ]
  },
  {
   "cell_type": "markdown",
   "metadata": {},
   "source": [
    "#### 【说明】：\n",
    "#### ①创建子类时，父类必须包含在当前文档中，且必须位于子类定义前面\n",
    "#### ②定义子类时，必须在括号内指定父类的名称\n",
    "#### ③子类中方法$__init__()$的参数需同父类的一致\n",
    "#### ④super()是一个特殊的函数，帮助Python将子类和父类关联起来，super().__init__(make,model,year)让Python调用ElectricCar父类的方法__init__()，让ElectricCar实例包含父类的所有属性和方法"
   ]
  },
  {
   "cell_type": "markdown",
   "metadata": {},
   "source": [
    "### 2.2 给子类定义属性和方法"
   ]
  },
  {
   "cell_type": "markdown",
   "metadata": {},
   "source": [
    "#### 特点：让一个类继承另一个类后，可添加区分父类和子类所需的新属性和方法"
   ]
  },
  {
   "cell_type": "markdown",
   "metadata": {},
   "source": [
    "#### 添加一个电动汽车特有的属性（电瓶——与普通汽车的电瓶功能不一样），以及一个描述该属性的方法。我们将存储电瓶的容量，并打印一个打印电瓶描述的方法："
   ]
  },
  {
   "cell_type": "code",
   "execution_count": 129,
   "metadata": {},
   "outputs": [],
   "source": [
    "class ElectricCar_v1(Car_v5):\n",
    "    \"\"\"电动汽车的独特之处\"\"\"\n",
    "    def __init__(self,make,model,year):\n",
    "        \"\"\"初始化父类的属性\n",
    "            再初始化电动汽车特有的属性\n",
    "            \"\"\"\n",
    "        super().__init__(make,model,year)\n",
    "        self.battery_size = 70\n",
    "    \n",
    "    def describe_battery(self):\n",
    "        \"\"\"打印一条描述电瓶容量的信息\"\"\"\n",
    "        print(\"This car has a {}-KWh battery.\".format(self.battery_size))"
   ]
  },
  {
   "cell_type": "code",
   "execution_count": 131,
   "metadata": {},
   "outputs": [
    {
     "name": "stdout",
     "output_type": "stream",
     "text": [
      "2016 Tesla Model S\n",
      "This car has a 70-KWh battery.\n"
     ]
    }
   ],
   "source": [
    "my_tesla_1 = ElectricCar_v1('tesla','model s',2016)\n",
    "print(my_tesla_1.get_descriptive_name())\n",
    "my_tesla_1.describe_battery()"
   ]
  },
  {
   "cell_type": "markdown",
   "metadata": {},
   "source": [
    "#### 根据ElectricCar_v1类创建的所有实例都将包含 battery_size 这个属性，但所有 Car_v5 创建的实例都不包含它"
   ]
  },
  {
   "cell_type": "markdown",
   "metadata": {},
   "source": [
    "### 2.3 重写父类"
   ]
  },
  {
   "cell_type": "markdown",
   "metadata": {},
   "source": [
    "#### 特点：对于父类的方法，只要它不符合子类模拟的实物的行为，都可对其进行重写。为此，可在子类中定义这样一个方法，即它与要重写的父类的方法同名，这样，Python将不会考虑父类的这个方法，而只关注你在子类中定义的相应方法"
   ]
  },
  {
   "cell_type": "markdown",
   "metadata": {},
   "source": [
    "#### 假设Car_v5类有一个名为fill_gas_tank()的方法，它对全电动车来说毫无意义，因此需要对它进行重写。重写方式如下："
   ]
  },
  {
   "cell_type": "code",
   "execution_count": 132,
   "metadata": {},
   "outputs": [],
   "source": [
    "class ElectricCar_v2(Car_v5):\n",
    "    \"\"\"电动汽车的独特之处\"\"\"\n",
    "    def __init__(self,make,model,year):\n",
    "        \"\"\"初始化父类的属性\n",
    "            再初始化电动汽车特有的属性\n",
    "            \"\"\"\n",
    "        super().__init__(make,model,year)\n",
    "        self.battery_size = 70\n",
    "    \n",
    "    def describe_battery(self):\n",
    "        \"\"\"打印一条描述电瓶容量的信息\"\"\"\n",
    "        print(\"This car has a {}-KWh battery.\".format(self.battery_size))\n",
    "    \n",
    "    def fill_gas_tank(self):\n",
    "        \"\"\"电动汽车没有油箱\"\"\"\n",
    "        prin(\"This car doesn't need a gas tank!\")"
   ]
  },
  {
   "cell_type": "markdown",
   "metadata": {},
   "source": [
    "#### 现在，如果有人对电动汽车调用fill_gas_tank()，Python将自动忽略Car_v5类中的方法fill_gas_tank()，转而执行上述代码\n",
    "### 使用继承时，可让子类保留从父类那里继承而来的精华，并删除不需要的糟粕"
   ]
  },
  {
   "cell_type": "markdown",
   "metadata": {},
   "source": [
    "### 2.4 将实例用作属性"
   ]
  },
  {
   "cell_type": "markdown",
   "metadata": {},
   "source": [
    "#### 特点：使用代码模拟实物时，你可能会发现自己给类添加的细节越来越多：属性和方法清单及文件越来越长。在这种情况下，可能需要将类的一部分作为一个独立的类提取出来，然后再将这些类的实例作为其他类的属性"
   ]
  },
  {
   "cell_type": "markdown",
   "metadata": {},
   "source": [
    "#### ex：在不断给ElectricCar_v2添加细节时，我们可能会发现其中有很多针对汽车电瓶的属性和方法，在这种情况下，我们可将这些方法和属性提取出来，放到另一个名为Battery的类中，并将一个Battery实例用作ElectricCar类的一个属性："
   ]
  },
  {
   "cell_type": "code",
   "execution_count": 137,
   "metadata": {},
   "outputs": [],
   "source": [
    "class Battery():\n",
    "    \"\"\"模拟电动汽车的电瓶\"\"\"\n",
    "    def __init__(self,battery_size=70):\n",
    "        \"\"\"初始化电瓶的属性\"\"\"\n",
    "        self.battery_size = battery_size\n",
    "    \n",
    "    def describe_battery(self):\n",
    "        \"\"\"打印一条描述电瓶容量的信息\"\"\"\n",
    "        print(\"This car has a {}-KWh battery.\".format(self.battery_size))\n",
    "    \n",
    "class ElectricCar_v3(Car_v5):\n",
    "    \"\"\"电动汽车的独特之处\"\"\"\n",
    "    def __init__(self,make,model,year):\n",
    "        \"\"\"初始化父类的属性，再初始化电动汽车特有的属性\"\"\"\n",
    "        super().__init__(make,model,year)\n",
    "        self.battery_size = Battery()"
   ]
  },
  {
   "cell_type": "code",
   "execution_count": 139,
   "metadata": {},
   "outputs": [
    {
     "name": "stdout",
     "output_type": "stream",
     "text": [
      "2016 Tesla Model S\n",
      "This car has a 70-KWh battery.\n"
     ]
    }
   ],
   "source": [
    "my_tesla_2 = ElectricCar_v3('tesla','model s',2016)\n",
    "print(my_tesla_2.get_descriptive_name())\n",
    "my_tesla_2.battery_size.describe_battery()"
   ]
  },
  {
   "cell_type": "code",
   "execution_count": null,
   "metadata": {},
   "outputs": [],
   "source": []
  }
 ],
 "metadata": {
  "kernelspec": {
   "display_name": "Python 3",
   "language": "python",
   "name": "python3"
  },
  "language_info": {
   "codemirror_mode": {
    "name": "ipython",
    "version": 3
   },
   "file_extension": ".py",
   "mimetype": "text/x-python",
   "name": "python",
   "nbconvert_exporter": "python",
   "pygments_lexer": "ipython3",
   "version": "3.6.5"
  }
 },
 "nbformat": 4,
 "nbformat_minor": 2
}
