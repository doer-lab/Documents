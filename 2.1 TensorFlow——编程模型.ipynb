{
 "cells": [
  {
   "cell_type": "markdown",
   "metadata": {},
   "source": [
    "#  1、TensorFlow编程模型"
   ]
  },
  {
   "cell_type": "markdown",
   "metadata": {},
   "source": [
    "### TensorFlow的命名来源于本身的运行原理。Tensor(张量)意味着N维数组，Flow(流)意味着基于数据流图的计算。TensorFlow是张量从图像的一端流动到另一端的计算过程。"
   ]
  },
  {
   "cell_type": "markdown",
   "metadata": {},
   "source": [
    "## 1.1 了解模型的运行机制"
   ]
  },
  {
   "cell_type": "markdown",
   "metadata": {},
   "source": [
    "### TensorFlow的运行机制属于‘定义’和‘运行’相分离。从操作层面可以抽象成两种：模型构建和模型运行。\n",
    "### 在模型的构建过程中，需要先了解几个概念。如下下表所示："
   ]
  },
  {
   "cell_type": "code",
   "execution_count": 1,
   "metadata": {},
   "outputs": [],
   "source": [
    "from pandas import DataFrame"
   ]
  },
  {
   "cell_type": "code",
   "execution_count": 2,
   "metadata": {},
   "outputs": [],
   "source": [
    "name = ['张量(tensor)','变量(variable)','占位符(placeholder)','图中的节点操作(operation, OP)']\n",
    "meaning = ['数据，即某一类型的多维数组','常用于定义模型中的参数，时通过不断训练得到的值','输入变量的载体。也可以理解成定义函数时的参数','即一个OP获得0个或多个tensor，执行计算，输出额外的0个或多个tensor']\n",
    "concepts = {'名称':name,'含义':meaning}"
   ]
  },
  {
   "cell_type": "code",
   "execution_count": 3,
   "metadata": {},
   "outputs": [
    {
     "data": {
      "text/html": [
       "<div>\n",
       "<style scoped>\n",
       "    .dataframe tbody tr th:only-of-type {\n",
       "        vertical-align: middle;\n",
       "    }\n",
       "\n",
       "    .dataframe tbody tr th {\n",
       "        vertical-align: top;\n",
       "    }\n",
       "\n",
       "    .dataframe thead th {\n",
       "        text-align: right;\n",
       "    }\n",
       "</style>\n",
       "<table border=\"1\" class=\"dataframe\">\n",
       "  <thead>\n",
       "    <tr style=\"text-align: right;\">\n",
       "      <th></th>\n",
       "      <th>名称</th>\n",
       "      <th>含义</th>\n",
       "    </tr>\n",
       "  </thead>\n",
       "  <tbody>\n",
       "    <tr>\n",
       "      <th>0</th>\n",
       "      <td>张量(tensor)</td>\n",
       "      <td>数据，即某一类型的多维数组</td>\n",
       "    </tr>\n",
       "    <tr>\n",
       "      <th>1</th>\n",
       "      <td>变量(variable)</td>\n",
       "      <td>常用于定义模型中的参数，时通过不断训练得到的值</td>\n",
       "    </tr>\n",
       "    <tr>\n",
       "      <th>2</th>\n",
       "      <td>占位符(placeholder)</td>\n",
       "      <td>输入变量的载体。也可以理解成定义函数时的参数</td>\n",
       "    </tr>\n",
       "    <tr>\n",
       "      <th>3</th>\n",
       "      <td>图中的节点操作(operation, OP)</td>\n",
       "      <td>即一个OP获得0个或多个tensor，执行计算，输出额外的0个或多个tensor</td>\n",
       "    </tr>\n",
       "  </tbody>\n",
       "</table>\n",
       "</div>"
      ],
      "text/plain": [
       "                       名称                                        含义\n",
       "0              张量(tensor)                             数据，即某一类型的多维数组\n",
       "1            变量(variable)                   常用于定义模型中的参数，时通过不断训练得到的值\n",
       "2        占位符(placeholder)                    输入变量的载体。也可以理解成定义函数时的参数\n",
       "3  图中的节点操作(operation, OP)  即一个OP获得0个或多个tensor，执行计算，输出额外的0个或多个tensor"
      ]
     },
     "execution_count": 3,
     "metadata": {},
     "output_type": "execute_result"
    }
   ],
   "source": [
    "DataFrame.from_dict(concepts)"
   ]
  },
  {
   "cell_type": "markdown",
   "metadata": {},
   "source": [
    "### 上表中定义的内容都是在一个叫做‘图’的容器中完成的。关于‘图’，有以下几点需要理解：\n",
    "#### （1）一个‘图’代表一个计算任务\n",
    "#### （2）在模型运行的环节中，‘图’会在会话(session)里被启动\n",
    "#### （3）session 将图的OP分发到如CPU或GPU之类的设备上，同时提供执行OP的方法。\n",
    "### 这些方法执行后，将产生的tensor返回。在python语言中，返回的tensor是numpy.ndarray对象\n",
    "### session 与图的交互过程中还定义了一下两种数据的流向机制：\n",
    "#### （1）注入机制(feed)：通过占位符向模式中传入数据\n",
    "#### （2）取回机制(fetch)：从模型中得到结果\n",
    "### 下面通过实例逐个演示session在各种情况下的用法。先从session的建立开始，接着演示session与图的交互机制，最后演示如何在session中指定GPU运算资源"
   ]
  },
  {
   "cell_type": "markdown",
   "metadata": {},
   "source": [
    "## 1.2 实例1：编写Hello world程序演示session的使用"
   ]
  },
  {
   "cell_type": "code",
   "execution_count": 4,
   "metadata": {},
   "outputs": [],
   "source": [
    "import tensorflow as tf"
   ]
  },
  {
   "cell_type": "code",
   "execution_count": 5,
   "metadata": {},
   "outputs": [
    {
     "name": "stdout",
     "output_type": "stream",
     "text": [
      "b'Hello world!'\n"
     ]
    }
   ],
   "source": [
    "# 建立一个session，在session中输出 'Hello world!'\n",
    "hello = tf.constant('Hello world!')\n",
    "\n",
    "sess = tf.Session()\n",
    "print(sess.run(hello))\n",
    "sess.close()"
   ]
  },
  {
   "cell_type": "markdown",
   "metadata": {},
   "source": [
    "### tf.constant 定义的是一个常量，hello的内容只有在session的run内才可以返回。试试在sess前print(hello):"
   ]
  },
  {
   "cell_type": "code",
   "execution_count": 6,
   "metadata": {},
   "outputs": [
    {
     "name": "stdout",
     "output_type": "stream",
     "text": [
      "Tensor(\"Const_1:0\", shape=(), dtype=string)\n",
      "b'Hello world!'\n"
     ]
    }
   ],
   "source": [
    "hello = tf.constant('Hello world!')\n",
    "\n",
    "print(hello)\n",
    "sess = tf.Session()\n",
    "print(sess.run(hello))\n",
    "sess.close()"
   ]
  },
  {
   "cell_type": "markdown",
   "metadata": {},
   "source": [
    "## 1.3 实例2：演示 with session 的使用"
   ]
  },
  {
   "cell_type": "markdown",
   "metadata": {},
   "source": [
    "### with session 的用法是最常见的，它沿用了Python中的as语法，即：当程序结束后自动关闭session，而不需要再去写close。代码如下："
   ]
  },
  {
   "cell_type": "code",
   "execution_count": 7,
   "metadata": {},
   "outputs": [
    {
     "name": "stdout",
     "output_type": "stream",
     "text": [
      "相加：7\n",
      "相乘：12\n"
     ]
    }
   ],
   "source": [
    "# 使用with session建立session，并在session中计算两个变量(3和4)的和与乘积，并打印出来\n",
    "a = tf.constant(3)    # 定义常量3\n",
    "b = tf.constant(4)    # 定义常量4\n",
    "\n",
    "with tf.Session() as sess:\n",
    "    print(\"相加：%i\"%sess.run(a+b))\n",
    "    print(\"相乘：%i\"%sess.run(a*b))"
   ]
  },
  {
   "cell_type": "markdown",
   "metadata": {},
   "source": [
    "## 1.4 实例3：演示注入机制"
   ]
  },
  {
   "cell_type": "markdown",
   "metadata": {},
   "source": [
    "#### 扩展实例2：使用注入机制，将具体的实参注入到相应的placeholder中。feed只在调用它的方法内有效，方法结束后feed就会消失"
   ]
  },
  {
   "cell_type": "code",
   "execution_count": 8,
   "metadata": {},
   "outputs": [
    {
     "name": "stdout",
     "output_type": "stream",
     "text": [
      "相加：7\n",
      "相乘：12\n"
     ]
    }
   ],
   "source": [
    "# 定义占位符，使用feed机制将具体数值(3和4)通过占位符传入，进行相加和相乘运算，并打印出计算结果\n",
    "\n",
    "a = tf.placeholder(tf.int16)\n",
    "b = tf.placeholder(tf.int16)\n",
    "add = tf.add(a,b)                # 相加\n",
    "mul = tf.multiply(a,b)           # 相乘\n",
    "with tf.Session() as sess:\n",
    "    # 计算具体数值\n",
    "    print(\"相加：%i\"%sess.run(add,feed_dict={a:3,b:4}))\n",
    "    print(\"相乘：%i\"%sess.run(mul,feed_dict={a:3,b:4}))"
   ]
  },
  {
   "cell_type": "markdown",
   "metadata": {},
   "source": [
    "### 标记的方法：使用 tf.placeholder 为这些操作创建占位符，然后使用 feed_dict 把具体的值放到占位符里"
   ]
  },
  {
   "cell_type": "markdown",
   "metadata": {},
   "source": [
    "## 1.5 建立session的其他方法"
   ]
  },
  {
   "cell_type": "markdown",
   "metadata": {},
   "source": [
    "### 建立 session 还有一下两种方式：\n",
    "#### （1）交互式 session 方式：一般在 jupyter 环境下使用较多，具体用法与前面的 with session 类似。代码如下：\n",
    "$sess = tf.InteractiveSession()$\n",
    "#### （2）使用 Supervisor 方式：该方式比较高级，使用起来也更加复杂。它可以自动处理 session 中的具体任务，例如：载入/载出检查点文件、写入 TensorBoard 等，另外，该方法还支持分布式训练的部署"
   ]
  },
  {
   "cell_type": "markdown",
   "metadata": {},
   "source": [
    "## 1.6 实例4：使用注入机制获取节点"
   ]
  },
  {
   "cell_type": "markdown",
   "metadata": {},
   "source": [
    "### 在实例3中，其实还可以一次将多个节点取出来"
   ]
  },
  {
   "cell_type": "code",
   "execution_count": 9,
   "metadata": {},
   "outputs": [
    {
     "name": "stdout",
     "output_type": "stream",
     "text": [
      "相加：7\n",
      "相乘：12\n",
      "[12, 7]\n"
     ]
    }
   ],
   "source": [
    "# 使用 fetch 机制将定义在图中的节点数值算出来\n",
    "a = tf.placeholder(tf.int16)\n",
    "b = tf.placeholder(tf.int16)\n",
    "add = tf.add(a,b)                # 相加\n",
    "mul = tf.multiply(a,b)           # 相乘\n",
    "with tf.Session() as sess:\n",
    "    # 将 OP 运算通过 run 打印出来\n",
    "    print(\"相加：%i\"%sess.run(add,feed_dict={a:3,b:4}))\n",
    "    # 将 add 节点打印出来\n",
    "    print(\"相乘：%i\"%sess.run(mul,feed_dict={a:3,b:4}))\n",
    "    print(sess.run([mul,add],feed_dict={a:3,b:4}))"
   ]
  },
  {
   "cell_type": "markdown",
   "metadata": {},
   "source": [
    "## 1.7 指定GPU运算"
   ]
  },
  {
   "cell_type": "markdown",
   "metadata": {},
   "source": [
    "### 如果下载的 GPU 版本，在运行过程中 TensorFlow 能自动检测。如果检测到 GPU ，TensorFlow 会尽可能地利用找到的第一个 GPU 来执行操作\n",
    "### 如果机器上有超过一个可用的 GPU ，除第一个之外的其他 GPU 默认是不参与计算的。为了让 TensorFlow 使用这些 GPU ，必须将 OP 明确指派给他们执行。with ... device 语句能用来指派特定的 CPU 或 GPU 执行操作："
   ]
  },
  {
   "cell_type": "code",
   "execution_count": null,
   "metadata": {},
   "outputs": [],
   "source": [
    "with tf.Session() as sess:\n",
    "    wiht tf.device(\"/gpu:1\"):\n",
    "        a = tf.placeholder(tf.int16)\n",
    "        b = tf.placeholder(tf.int16)\n",
    "        add = tf.add(a,b)"
   ]
  },
  {
   "cell_type": "markdown",
   "metadata": {},
   "source": [
    "### 设备用字符串进行标识。目前支持的设备包括以下几种：\n",
    "#### cpu:0 ：机器的 CPU\n",
    "#### gpu:0 ：机器的第一个 GPU ，如果有的话\n",
    "#### gpu:1 ：机器的第二个 GPU ，依次类推\n",
    "### 类似的还有通过 tf.ConfigProto 来构建一个 config ，在 config 中指定相关的 GPU ，并且在 session 中传入参数 config = '自己创建的config' 来指定 GPU 操作。\n",
    "#### tf.ConfigProto 函数的参数：\n",
    "##### log_device_placement = True ：是否打印设备分配日志\n",
    "##### allow_soft_placement = True ：如果指定的设备不存在，允许 TensorFlow 自动分配设备\n",
    "##### ex："
   ]
  },
  {
   "cell_type": "code",
   "execution_count": 14,
   "metadata": {},
   "outputs": [],
   "source": [
    "cofig = tf.ConfigProto(log_device_placement=True,allow_soft_placement=True)\n",
    "sess = tf.Session(config=config)"
   ]
  },
  {
   "cell_type": "markdown",
   "metadata": {},
   "source": [
    "## 1.8 设置 GPU 使用资源"
   ]
  },
  {
   "cell_type": "markdown",
   "metadata": {},
   "source": [
    "### 1.7 中的 tf.ConfigProto 函数生成 config 之后，还可以设置其属性来分配 GPU 的运算资源。如下代码就是按需分配的意思。使用 allow_growth option，刚开始会分配少来的 GPU 容量，然后按需要慢慢地增加，由于不会释放内存，所以会导致碎片。"
   ]
  },
  {
   "cell_type": "code",
   "execution_count": null,
   "metadata": {},
   "outputs": [],
   "source": [
    "config.gpu_options.allow_growth = True"
   ]
  },
  {
   "cell_type": "markdown",
   "metadata": {},
   "source": [
    "### 同样，上述的代码也可以放在 config 创建时指定，ex："
   ]
  },
  {
   "cell_type": "code",
   "execution_count": 16,
   "metadata": {},
   "outputs": [],
   "source": [
    "gpu_options = tf.GPUOptions(allow_growth=True)\n",
    "config = tf.ConfigProto(log_device_placement=True,allow_soft_placement=True,gpu_options=gpu_options)"
   ]
  },
  {
   "cell_type": "markdown",
   "metadata": {},
   "source": [
    "### 以下代码还可以给 GPU 分配固定大小的计算资源"
   ]
  },
  {
   "cell_type": "code",
   "execution_count": null,
   "metadata": {},
   "outputs": [],
   "source": [
    "gpu_options = tf.GPUOptions(per_process_gpu_memory_fraction=0.7)   # 代表分配给 TensorFlow 的GPU现存大小为：GPU实际现存*0.7"
   ]
  },
  {
   "cell_type": "markdown",
   "metadata": {},
   "source": [
    "## 1.9 保存和载入模型的方法介绍"
   ]
  },
  {
   "cell_type": "markdown",
   "metadata": {},
   "source": [
    "### 一般而言，训练好的模型都需要保存。下面举例演示如何保存和载入模型"
   ]
  },
  {
   "cell_type": "markdown",
   "metadata": {},
   "source": [
    "### 1.9.1 保存模型"
   ]
  },
  {
   "cell_type": "markdown",
   "metadata": {},
   "source": [
    "#### 首先需要建立一个 saver ，然后在 session 中通过 saver 的 save 即可将模型保存起来。代码如下："
   ]
  },
  {
   "cell_type": "code",
   "execution_count": null,
   "metadata": {},
   "outputs": [],
   "source": [
    "# 之前是各种构建模型的操作(矩阵相乘，sigmoid等)\n",
    "saver = tf.train.Saver() \n",
    "with tf.Session(config=cofig) as sess:\n",
    "    sess.run(tf.global_variables_initializer())         # 先对模型初始化(初始化模型参数)\n",
    "    ...                                                 # 然后将数据丢入模型进行训练\n",
    "    saver.save(sess,'save_path/file_name')              # 如果 file_name 不存在，会自动创建"
   ]
  },
  {
   "cell_type": "markdown",
   "metadata": {},
   "source": [
    "### 1.9.2 载入模型"
   ]
  },
  {
   "cell_type": "markdown",
   "metadata": {},
   "source": [
    "#### 将模型保存好以后，载入也很方便。在 session 中通过调用 saver 的 restore() 函数，会从指定的路径找到模型文件，并覆盖到相关参数中。代码如下："
   ]
  },
  {
   "cell_type": "code",
   "execution_count": null,
   "metadata": {},
   "outputs": [],
   "source": [
    "saver = tf.train.Saver()\n",
    "\n",
    "with tf.Session(config=cofig) as sess:               # 不必再次初始化模型参数，即使初始化，也会被 restore 的值给覆盖\n",
    "    saver.restore(sess,'save_path/file_name')        # 会将已经保存的变量值 restore 到变量中"
   ]
  },
  {
   "cell_type": "markdown",
   "metadata": {},
   "source": [
    "## 1.10 实例5：保存/载入线性回归模型"
   ]
  },
  {
   "cell_type": "markdown",
   "metadata": {},
   "source": [
    "### 建模过程主要有四个步骤：\n",
    "#### 准备数据 -> 搭建模型 -> 迭代训练 -> 使用模型\n",
    "#### 其中，使用 TensorFlow 搭建一个模型主要有如下步骤：\n",
    "##### 定义输入节点(常采用 placeholder ) -> 定义模型参数 -> 定义运算(前向传播过程) -> 定义优化目标(loss)、优化函数(optimizer)\n",
    "#### 迭代训练中主要包含如下操作：\n",
    "##### 建立 saver 及相关参数 -> 设置训练次数 -> 启动会话窗口 -> 初始化模型 -> 迭代训练 -> 适时打印训练信息并保存模型至本地"
   ]
  },
  {
   "cell_type": "code",
   "execution_count": 10,
   "metadata": {},
   "outputs": [
    {
     "data": {
      "image/png": "[encoded data removed]",
      "text/plain": [
       "<Figure size 432x288 with 1 Axes>"
      ]
     },
     "metadata": {},
     "output_type": "display_data"
    }
   ],
   "source": [
    "# 构建一个线性回归模型 (y = 2x)，训练并保存该模型本地\n",
    "## 导入需要使用的函数库\n",
    "import numpy as np\n",
    "import tensorflow as tf\n",
    "import matplotlib.pyplot as plt\n",
    "%matplotlib inline\n",
    "\n",
    "## 1、准备数据\n",
    "train_x = np.linspace(-1,1,100)\n",
    "train_y = 2*train_x + np.random.randn(len(train_x))*0.3    # y = 2x,但是加入了噪音\n",
    "plt.plot(train_x,train_y,'ro',label='Original data')\n",
    "plt.legend()\n",
    "plt.show()"
   ]
  },
  {
   "cell_type": "code",
   "execution_count": 11,
   "metadata": {},
   "outputs": [],
   "source": [
    "tf.reset_default_graph()\n",
    "## 2、搭建模型\n",
    "x = tf.placeholder(tf.float32)\n",
    "y = tf.placeholder(tf.float32)\n",
    "# 模型参数\n",
    "weight = tf.Variable(tf.random_normal([1]),name='weight')\n",
    "bias = tf.Variable(tf.zeros([1]),name='bias')\n",
    "# 前向结构\n",
    "z = tf.multiply(x,weight)+bias"
   ]
  },
  {
   "cell_type": "code",
   "execution_count": 12,
   "metadata": {},
   "outputs": [],
   "source": [
    "# 定义优化目标与优化函数\n",
    "cost = tf.reduce_mean(tf.square(z - y))\n",
    "learning_rate = 0.01\n",
    "optimizer = tf.train.GradientDescentOptimizer(learning_rate=learning_rate).minimize(cost)"
   ]
  },
  {
   "cell_type": "code",
   "execution_count": 13,
   "metadata": {
    "scrolled": true
   },
   "outputs": [
    {
     "name": "stdout",
     "output_type": "stream",
     "text": [
      "Epoch:1, cost=0.69826776, weight=[0.55811334], bias=[0.37620467]\n",
      "Epoch:3, cost=0.008346383, weight=[1.5806049], bias=[0.09797869]\n",
      "Epoch:5, cost=0.00658419, weight=[1.8574071], bias=[-0.00632189]\n",
      "Epoch:7, cost=0.015727958, weight=[1.9291885], bias=[-0.03383522]\n",
      "Epoch:9, cost=0.01872838, weight=[1.9477524], bias=[-0.04095853]\n",
      "Epoch:11, cost=0.01954666, weight=[1.9525518], bias=[-0.0428003]\n",
      "Epoch:13, cost=0.01976121, weight=[1.9537935], bias=[-0.04327681]\n",
      "Epoch:15, cost=0.019816786, weight=[1.9541141], bias=[-0.04339981]\n",
      "Epoch:17, cost=0.019831253, weight=[1.9541975], bias=[-0.04343183]\n",
      "Epoch:19, cost=0.01983498, weight=[1.9542189], bias=[-0.04343994]\n",
      "Fnished!\n"
     ]
    }
   ],
   "source": [
    "## 3、训练模型\n",
    "# 建立 saver 并设置相应的参数\n",
    "saver = tf.train.Saver(max_to_keep=1)\n",
    "savedir = 'regression/'\n",
    "\n",
    "# 设置训练相关信息\n",
    "training_epochs = 20           # 训练20次\n",
    "display_epochs = 2             # 每训练两次显示一次模型的训练信息\n",
    "\n",
    "# 启动会话窗口开始训练\n",
    "with tf.Session() as sess:\n",
    "    sess.run(tf.global_variables_initializer())         # 初始化模型\n",
    "    for epoch in range(training_epochs):\n",
    "        for (xx,yy) in zip(train_x,train_y):\n",
    "            sess.run(optimizer,feed_dict={x:xx,y:yy})   # 向模型输入数据开始训练\n",
    "            \n",
    "        if epoch % display_epochs == 0:\n",
    "            loss = sess.run(cost,feed_dict={x:xx,y:yy})\n",
    "            print('Epoch:%s, cost=%s, weight=%s, bias=%s'%(epoch+1,loss,sess.run(weight),sess.run(bias)))\n",
    "        \n",
    "    print('Fnished!')\n",
    "    saver.save(sess,savedir+'linear.ckpt')           # 将模型保存在当前路径中的 regression 文件夹下，模型名称为 linear.ckpt\n",
    "    "
   ]
  },
  {
   "cell_type": "markdown",
   "metadata": {},
   "source": [
    "#### 运行上述代码后，在代码的同级目录下 regression 文件夹里面生成了4个文件，这就是我们保存的模型。\n",
    "#### 我们重启一个 session ，并命名为 sess2 ，在代码里通过使用 saver 的 restore 函数将模型载入"
   ]
  },
  {
   "cell_type": "code",
   "execution_count": 14,
   "metadata": {},
   "outputs": [
    {
     "name": "stdout",
     "output_type": "stream",
     "text": [
      "INFO:tensorflow:Restoring parameters from regression/linear.ckpt\n",
      "x = 0.2,z = [0.3474031]\n"
     ]
    }
   ],
   "source": [
    "with tf.Session() as sess2:\n",
    "    saver.restore(sess2,savedir+'linear.ckpt')\n",
    "    print(\"x = 0.2,z = {}\".format(sess2.run(z,feed_dict={x:0.2})))"
   ]
  },
  {
   "cell_type": "markdown",
   "metadata": {},
   "source": [
    "## 1.11 实例6：分析模型内容"
   ]
  },
  {
   "cell_type": "markdown",
   "metadata": {},
   "source": [
    "### 模型内容\n",
    "#### 虽然模型已经保存了，但是仍然对我们不透明。下面通过将模型里的内容打印出来，看看模型里都保存了哪些东西？都是什么样的？"
   ]
  },
  {
   "cell_type": "code",
   "execution_count": 15,
   "metadata": {},
   "outputs": [
    {
     "name": "stdout",
     "output_type": "stream",
     "text": [
      "tensor_name:  bias\n",
      "[-0.04344136]\n",
      "tensor_name:  weight\n",
      "[1.9542223]\n"
     ]
    }
   ],
   "source": [
    "# 将实例5生成的模型里面的内容打印出来，观察其存放的具体数据方式\n",
    "from tensorflow.python.tools.inspect_checkpoint import print_tensors_in_checkpoint_file\n",
    "\n",
    "savedir = 'regression/'\n",
    "print_tensors_in_checkpoint_file(savedir+'linear.ckpt',None,True,True)"
   ]
  },
  {
   "cell_type": "markdown",
   "metadata": {},
   "source": [
    "## 1.12 检查点(checkpoint)"
   ]
  },
  {
   "cell_type": "markdown",
   "metadata": {},
   "source": [
    "### 保存模型并不限于在训练之后，在训练之中也需要保存，因为 TensorFlow 训练模型时难免会出现中断的情况。我们自然希望能够将辛苦得到的中间参数保留下来，否则下次又要重头开始。\n",
    "### 这种在训练中保存模型，习惯上称之为保存检查点"
   ]
  },
  {
   "cell_type": "markdown",
   "metadata": {},
   "source": [
    "## 1.13 实例7：为模型添加保存检查点"
   ]
  },
  {
   "cell_type": "code",
   "execution_count": 16,
   "metadata": {},
   "outputs": [
    {
     "data": {
      "image/png": "[encoded data removed]",
      "text/plain": [
       "<Figure size 432x288 with 1 Axes>"
      ]
     },
     "metadata": {},
     "output_type": "display_data"
    },
    {
     "name": "stdout",
     "output_type": "stream",
     "text": [
      "Epoch:1, cost=0.33193022, weight=[1.3787802], bias=[0.15590262]\n",
      "Epoch:3, cost=0.059099257, weight=[1.8386555], bias=[0.02905786]\n",
      "Epoch:5, cost=0.027443955, weight=[1.9629643], bias=[-0.01780979]\n",
      "Epoch:7, cost=0.021253224, weight=[1.9951967], bias=[-0.03016486]\n",
      "Epoch:9, cost=0.019781493, weight=[2.0035338], bias=[-0.03336387]\n",
      "Epoch:11, cost=0.019409668, weight=[2.005689], bias=[-0.03419081]\n",
      "Epoch:13, cost=0.019314123, weight=[2.0062463], bias=[-0.03440483]\n",
      "Epoch:15, cost=0.019289447, weight=[2.0063903], bias=[-0.03446006]\n",
      "Epoch:17, cost=0.019282958, weight=[2.0064282], bias=[-0.03447461]\n",
      "Epoch:19, cost=0.0192816, weight=[2.0064363], bias=[-0.03447782]\n",
      "Fnished!\n"
     ]
    }
   ],
   "source": [
    "#### 为实例添加'保存检查点'功能。通过该功能，可以生成载入检查点文件，并能够指定生成检查点文件的个数\n",
    "\n",
    "## 1、准备数据\n",
    "train_x = np.linspace(-1,1,100)\n",
    "train_y = 2*train_x + np.random.randn(len(train_x))*0.3    # y = 2x,但是加入了噪音\n",
    "plt.plot(train_x,train_y,'ro',label='Original data')\n",
    "plt.legend()\n",
    "plt.show()\n",
    "\n",
    "# tf.reset_default_graph()         # 重置默认图，后续会讲。初次训练模型不用运行次命令\n",
    "## 2、搭建模型\n",
    "x = tf.placeholder(tf.float32)\n",
    "y = tf.placeholder(tf.float32)\n",
    "# 模型参数\n",
    "weight = tf.Variable(tf.random_normal([1]),name='weight')\n",
    "bias = tf.Variable(tf.zeros([1]),name='bias')\n",
    "# 前向结构\n",
    "z = tf.multiply(x,weight)+bias\n",
    "\n",
    "# 定义优化目标与优化函数\n",
    "cost = tf.reduce_mean(tf.square(z - y))\n",
    "learning_rate = 0.01\n",
    "optimizer = tf.train.GradientDescentOptimizer(learning_rate=learning_rate).minimize(cost)\n",
    "\n",
    "## 3、训练模型\n",
    "# 建立 saver 并设置相应的参数\n",
    "saver3 = tf.train.Saver(max_to_keep=1)\n",
    "savedir = 'regression/'\n",
    "\n",
    "# 设置训练相关信息\n",
    "training_epochs = 20           # 训练20次\n",
    "display_epochs = 2             # 每训练两次显示一次模型的训练信息\n",
    "\n",
    "# 启动会话窗口开始训练\n",
    "with tf.Session() as sess3:\n",
    "    sess3.run(tf.global_variables_initializer())         # 初始化模型\n",
    "    for epoch in range(training_epochs):\n",
    "        for (xx,yy) in zip(train_x,train_y):\n",
    "            sess3.run(optimizer,feed_dict={x:xx,y:yy})   # 向模型输入数据开始训练\n",
    "            \n",
    "        if epoch % display_epochs == 0:\n",
    "            loss = sess3.run(cost,feed_dict={x:xx,y:yy})\n",
    "            print('Epoch:%s, cost=%s, weight=%s, bias=%s'%(epoch+1,loss,sess3.run(weight),sess3.run(bias)))\n",
    "            # 将模型保存的位置放在迭代过程中，此时保存的模型叫做检查点\n",
    "            saver3.save(sess3,savedir+'linear.ckpt',global_step=epoch)  # 将模型保存在当前路径中的 regression 文件夹下，模型名称为 linear.ckpt\n",
    "        \n",
    "    print('Fnished!')"
   ]
  },
  {
   "cell_type": "code",
   "execution_count": 17,
   "metadata": {},
   "outputs": [
    {
     "name": "stdout",
     "output_type": "stream",
     "text": [
      "INFO:tensorflow:Restoring parameters from regression/linear.ckpt-18\n",
      "x = 0.2,z = [0.3668095]\n"
     ]
    }
   ],
   "source": [
    "# TensorFlow 会将迭代次数一起放在检查点的名字上,所以载入时，同样也需要指定迭代次数\n",
    "load_epoch = 18\n",
    "with tf.Session() as sess4:\n",
    "    saver3.restore(sess4,savedir+'linear.ckpt-'+str(load_epoch))\n",
    "    print(\"x = 0.2,z = {}\".format(sess4.run(z,feed_dict={x:0.2})))"
   ]
  },
  {
   "cell_type": "markdown",
   "metadata": {},
   "source": [
    "### 该例与保存模型的功能类似，只是保存的位置发生了些变化，我们希望在显示信息时将检查点保存起来，于是就将保存位置放在了迭代训练中的打印信息后面\n",
    "### 另外，该例用到了 saver 的另一个参数——max_to_keep=1,表明每次只保存一个检查点文件。在保存时使用了如下代码传入了迭代次数"
   ]
  },
  {
   "cell_type": "code",
   "execution_count": null,
   "metadata": {},
   "outputs": [],
   "source": [
    "saver3.save(sess3,savedir+'linear.ckpt',global_step=epoch)"
   ]
  },
  {
   "cell_type": "markdown",
   "metadata": {},
   "source": [
    "### 通过指定迭代次数来载入模型稍显麻烦，可通过如下代码获取检查点文件，并将保存的模型重新载入"
   ]
  },
  {
   "cell_type": "code",
   "execution_count": null,
   "metadata": {},
   "outputs": [],
   "source": [
    "ckpt = tf.train.get_checkpoint_state(saverdir),\n",
    "if ckpt and ckpt.model_checkpoint_path:\n",
    "    saver3.restore(sess3,ckpt.model_checkpoint_path)\n",
    "### 还可再简洁一些：\n",
    "saved_ckpt = tf.train.latest_checkpoint(savedir)\n",
    "if saved_ckpt is not None:\n",
    "    saver3.restore(sess3,saved_ckpt)"
   ]
  },
  {
   "cell_type": "markdown",
   "metadata": {},
   "source": [
    "## 1.14 模型操作常用函数总结"
   ]
  },
  {
   "cell_type": "markdown",
   "metadata": {},
   "source": [
    "### 下面将模型操作的相关函数进行系统介绍。(由于本人不知道如何在jupyter中插入表格，所有表格中的信息无法全部显示，可使用 help(function_name) 查看每个操作的详细参数)"
   ]
  },
  {
   "cell_type": "code",
   "execution_count": 30,
   "metadata": {},
   "outputs": [],
   "source": [
    "function = [\"\"\"tf.train.Saver(var_list=None,reshape=False,sharded=False,\n",
    "                max_to_keep=5,keep_checkpoint_every_n_hours=10000.0,\n",
    "                name=None,restore_sequentially=False,saver_def=None, builder=None)\"\"\",\n",
    "        \"tf.train.Saver.save(sess,save_path,global_step=None,latest_filename=None,meta_graph_suffix='meta',write_meta_graph=True)\",\n",
    "        \"tf.train.Saver.restore(sess,save_path)\",\n",
    "        \"tr.train.Saver.last_checkpoints\",\n",
    "        \"tf.train.Saver.set_last_checkpoints(last_checkpoints)\",\n",
    "        \"set_last_checkpoints_with_time(last_checkpoints_with_time)\"]\n",
    "illustration = ['创建存储器Saver','保存','恢复','列出最近未删除的checkpoint文件名','设置checkpoint文件名列表','设置checkpoint文件名列表和时间戳']\n",
    "operate_function = {'函数':function,'说明':illustration}"
   ]
  },
  {
   "cell_type": "code",
   "execution_count": 31,
   "metadata": {},
   "outputs": [
    {
     "data": {
      "text/html": [
       "<div>\n",
       "<style scoped>\n",
       "    .dataframe tbody tr th:only-of-type {\n",
       "        vertical-align: middle;\n",
       "    }\n",
       "\n",
       "    .dataframe tbody tr th {\n",
       "        vertical-align: top;\n",
       "    }\n",
       "\n",
       "    .dataframe thead th {\n",
       "        text-align: right;\n",
       "    }\n",
       "</style>\n",
       "<table border=\"1\" class=\"dataframe\">\n",
       "  <thead>\n",
       "    <tr style=\"text-align: right;\">\n",
       "      <th></th>\n",
       "      <th>函数</th>\n",
       "      <th>说明</th>\n",
       "    </tr>\n",
       "  </thead>\n",
       "  <tbody>\n",
       "    <tr>\n",
       "      <th>0</th>\n",
       "      <td>tf.train.Saver(var_list=None,reshape=False,sha...</td>\n",
       "      <td>创建存储器Saver</td>\n",
       "    </tr>\n",
       "    <tr>\n",
       "      <th>1</th>\n",
       "      <td>tf.train.Saver.save(sess,save_path,global_step...</td>\n",
       "      <td>保存</td>\n",
       "    </tr>\n",
       "    <tr>\n",
       "      <th>2</th>\n",
       "      <td>tf.train.Saver.restore(sess,save_path)</td>\n",
       "      <td>恢复</td>\n",
       "    </tr>\n",
       "    <tr>\n",
       "      <th>3</th>\n",
       "      <td>tr.train.Saver.last_checkpoints</td>\n",
       "      <td>列出最近未删除的checkpoint文件名</td>\n",
       "    </tr>\n",
       "    <tr>\n",
       "      <th>4</th>\n",
       "      <td>tf.train.Saver.set_last_checkpoints(last_check...</td>\n",
       "      <td>设置checkpoint文件名列表</td>\n",
       "    </tr>\n",
       "    <tr>\n",
       "      <th>5</th>\n",
       "      <td>set_last_checkpoints_with_time(last_checkpoint...</td>\n",
       "      <td>设置checkpoint文件名列表和时间戳</td>\n",
       "    </tr>\n",
       "  </tbody>\n",
       "</table>\n",
       "</div>"
      ],
      "text/plain": [
       "                                                  函数                     说明\n",
       "0  tf.train.Saver(var_list=None,reshape=False,sha...             创建存储器Saver\n",
       "1  tf.train.Saver.save(sess,save_path,global_step...                     保存\n",
       "2             tf.train.Saver.restore(sess,save_path)                     恢复\n",
       "3                    tr.train.Saver.last_checkpoints  列出最近未删除的checkpoint文件名\n",
       "4  tf.train.Saver.set_last_checkpoints(last_check...      设置checkpoint文件名列表\n",
       "5  set_last_checkpoints_with_time(last_checkpoint...  设置checkpoint文件名列表和时间戳"
      ]
     },
     "execution_count": 31,
     "metadata": {},
     "output_type": "execute_result"
    }
   ],
   "source": [
    "DataFrame(operate_function)"
   ]
  }
 ],
 "metadata": {
  "kernelspec": {
   "display_name": "Python 3",
   "language": "python",
   "name": "python3"
  },
  "language_info": {
   "codemirror_mode": {
    "name": "ipython",
    "version": 3
   },
   "file_extension": ".py",
   "mimetype": "text/x-python",
   "name": "python",
   "nbconvert_exporter": "python",
   "pygments_lexer": "ipython3",
   "version": "3.6.5"
  }
 },
 "nbformat": 4,
 "nbformat_minor": 2
}
