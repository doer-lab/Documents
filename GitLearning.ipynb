{
 "cells": [
  {
   "cell_type": "markdown",
   "metadata": {},
   "source": [
    "# git 版本控制工具（分布式后悔药）"
   ]
  },
  {
   "cell_type": "markdown",
   "metadata": {},
   "source": [
    "# git 安装\n",
    "## download site: https://www.git-scm.com\n",
    "## 默认安装（一直点击下一步）\n",
    "## Windows + R + cmd\n",
    "## 查看git版本 git --version"
   ]
  },
  {
   "cell_type": "markdown",
   "metadata": {},
   "source": [
    "# git配置"
   ]
  },
  {
   "cell_type": "markdown",
   "metadata": {},
   "source": [
    "# git config --global user.name\"zhufei\"\n",
    "# git cofig --global user.email\"zhufeiyunnan@foxmail.com\"\n",
    "# git config list  # 列出所有项目\n"
   ]
  },
  {
   "cell_type": "markdown",
   "metadata": {},
   "source": [
    "#### 建立仓库\n",
    "### 方法一：\n",
    "#### cd '目录'   # 手动创建目录并init\n",
    "#### git init #初始化仓库\n",
    "#### ls -la\n",
    "#### cd ..\n",
    "### 方法二：\n",
    "#### git init test2   #在init后直接加目录名，系统创建目录的同时会自动创建仓库\n",
    "### 方法三：\n",
    "#### 直接到网站上拷贝一个\n",
    "#### Ctrl+L 清屏"
   ]
  },
  {
   "cell_type": "markdown",
   "metadata": {},
   "source": [
    "# 创建一个仓库\n",
    "## git init xyj  # xyj 为目录\n",
    "## cd xyj\n",
    "## git status #查看xyj项目的状态\n",
    "#### commit——后悔药\n",
    "## git add .  #添加到暂定区\n",
    "## git status\n",
    "## git commit -m \"开始的开始\"  # 添加说明\n",
    "## git log         # 后悔药的名字\n"
   ]
  },
  {
   "cell_type": "markdown",
   "metadata": {},
   "source": [
    "# 造后悔药\n",
    "# git add .\n",
    "# git commit -m '说明'\n",
    "# git status   # 查看状态\n",
    "# git log\n",
    "\n",
    "# 吃后悔药\n",
    "# git checkout ID(hash value)"
   ]
  },
  {
   "cell_type": "markdown",
   "metadata": {},
   "source": [
    "# 如何造后悔药\n",
    "# git checkout -\n",
    "# modified -> staged(缓冲) -> committed\n",
    "# git log -p #查看操作的内容"
   ]
  },
  {
   "cell_type": "markdown",
   "metadata": {},
   "source": [
    "# git tag -a  标注名 -m 备注\n",
    "# ex: git tag - a v1 -m '扩充了内容'\n",
    "# git log --online # 显示一行信息\n",
    "# git tag -a v0.5 -m '闲得慌' ID\n",
    "# git show v2\n",
    "# git checkout v1(tag or id)"
   ]
  },
  {
   "cell_type": "markdown",
   "metadata": {},
   "source": [
    "# 分支——存在多条故事线\n",
    "# git branch rich  # create brach\n",
    "# git checkout rich  # chang to branch\n",
    "# git checkout master # go back to master"
   ]
  },
  {
   "cell_type": "markdown",
   "metadata": {},
   "source": [
    "# 救火——改bug\n",
    "# "
   ]
  },
  {
   "cell_type": "markdown",
   "metadata": {},
   "source": [
    "# 合并分支\n",
    "# git merge 分支名   #合并分支到master"
   ]
  },
  {
   "cell_type": "markdown",
   "metadata": {},
   "source": [
    "# 远程仓库\n",
    "# git remote add github address\n",
    "# git remote  # 打印所有的远程仓库\n",
    "# git push -u github master\n",
    "# git clone address\n",
    "# git remote -v"
   ]
  },
  {
   "cell_type": "markdown",
   "metadata": {},
   "source": [
    "# 下载代码\n",
    "# 多个环境、多个成员\n",
    "# git clone address 成员1\n",
    "# git clone address 成员2\n",
    "# git pull\n",
    "# git push -u origin master"
   ]
  }
 ],
 "metadata": {
  "kernelspec": {
   "display_name": "Python 3",
   "language": "python",
   "name": "python3"
  },
  "language_info": {
   "codemirror_mode": {
    "name": "ipython",
    "version": 3
   },
   "file_extension": ".py",
   "mimetype": "text/x-python",
   "name": "python",
   "nbconvert_exporter": "python",
   "pygments_lexer": "ipython3",
   "version": "3.6.5"
  }
 },
 "nbformat": 4,
 "nbformat_minor": 2
}
